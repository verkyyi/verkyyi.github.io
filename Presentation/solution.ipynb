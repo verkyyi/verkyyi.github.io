{
 "cells": [
  {
   "cell_type": "markdown",
   "metadata": {},
   "source": [
    "---\n",
    "title: \"Homework 1 of DSAN 5100\"\n",
    "author: \"Lianghui Yi\"\n",
    "---"
   ]
  },
  {
   "cell_type": "markdown",
   "metadata": {},
   "source": [
    "\n",
    "## Problem-1\n",
    "\n",
    "Create a standard 52 card deck, refer to the card deck created in Bootcamp Assignment 6-problem 1.\n",
    "\n",
    "What is the probability of getting two diamonds with replacement?\n",
    "\n",
    "What is the probability of getting two diamonds without replacement?\n",
    "\n",
    "Assuming a 5 card poker hand what is the probability of having four of a kind? (Hint. The probability of a 4 of a kind is equal to total number of ways to get a four of a kind divided by the total number of ways to choose 5 cards from a 52 card deck)\n"
   ]
  },
  {
   "cell_type": "code",
   "execution_count": null,
   "metadata": {
    "vscode": {
     "languageId": "r"
    }
   },
   "outputs": [],
   "source": []
  },
  {
   "cell_type": "markdown",
   "metadata": {},
   "source": [
    "\n",
    "## Problem-2\n",
    "\n",
    "Using the poker dataset you just created above\n",
    "\n",
    "Run four simulations that pull 10, 100, 1000, and 10000 cards respectively with replacement. Use the table function to find the distribution of suit counts.\n",
    "\n",
    "What do you notice about the distribution of counts as more simulations are run?\n",
    "\n",
    "Run a simulation for Problem #1 part D to answer the question. Compare the results (hint. they should be close)\n"
   ]
  },
  {
   "cell_type": "markdown",
   "metadata": {},
   "source": [
    "\n",
    "## Problem-3 \n",
    "\n",
    "Consider the baby names data for 2014. Write a function that computes the conditional probability \n",
    " for a given character string XXX. Next, use the function to compute conditional probabilities for the 10 most common female baby names of that year (In other words what is probability the child is a female given the name is XXX?). For which female baby name of the top 10 is this conditional probability maximal? What does this mean?\n"
   ]
  },
  {
   "cell_type": "markdown",
   "metadata": {},
   "source": [
    "\n",
    "## Problem-4\n",
    "\n",
    "Many adults find videos online and then re-post the videos on social media sights. The Pew Internet and American Life Project has found this behavior continues to increase through various polls. The results of such polling is summarized in the table below. A count for UserCreated means an individual from that age range prefers watching UserCreated videos and a count for TV means an individual from that age range prefers watching TV videos.\n",
    "\n",
    "ViewerAge <- c(\"18-34\",\"35-54\",\"55+\",\"ColumnTotal\")\n",
    "UserCreated <- c(30,10,3,43)\n",
    "TV <- c(38,10,9,57)\n",
    "RowTotal <- c(68,20,12,100)\n",
    "as.data.frame(cbind(ViewerAge,UserCreated,TV,RowTotal))\n",
    "Answer the following questions referring to the table above\n",
    "\n",
    "Probability that a viewer is aged 18-34\n",
    "\n",
    "Probability that a viewer prefers watching TV videos\n",
    "\n",
    "Percentage of viewers who are 18-34 and prefer watching UserCreated videos\n",
    "\n",
    "Percentage of viewers who are 35-54 or prefer watching UserCreated videos\n"
   ]
  },
  {
   "cell_type": "markdown",
   "metadata": {},
   "source": [
    "\n",
    "## Problem-5\n",
    "\n",
    "Suppose and are independent random variables that both have uniform \n",
    " distributions. Consider the events\n",
    "\n",
    " \n",
    "\n",
    "Then \n",
    " \n",
    ". Use R and simulations to estimate \n",
    ".\n",
    "\n",
    "R will automatically generate independent random variables in a simulation. Use runif(n) to simulate 100,000 Uniform(0,1) distributed random values. Make a data frame for \n",
    " and \n",
    " uniform random variables, compute two additional columns for the events \n",
    " and \n",
    " as given in the problem, and estimate the relevant probabilities by sub-setting.\n",
    "\n",
    "Find \n",
    "\n",
    "Find \n",
    "\n",
    "Find \n"
   ]
  },
  {
   "cell_type": "markdown",
   "metadata": {},
   "source": [
    "\n",
    "Problem-6\n",
    "Take 5 R functions of your choice and find/compare/contrast their parameters, output, and usability with the python function that accomplishes the same goal."
   ]
  },
  {
   "cell_type": "markdown",
   "metadata": {},
   "source": [
    "\n",
    "ViewerAge <- c(\"18-34\",\"35-54\",\"55+\",\"ColumnTotal\")\n",
    "UserCreated <- c(30,10,3,43)\n",
    "TV <- c(38,10,9,57)\n",
    "RowTotal <- c(68,20,12,100)\n",
    "as.data.frame(cbind(ViewerAge,UserCreated,TV,RowTotal))\n",
    "Answer the following questions referring to the table above\n",
    "\n",
    "Probability that a viewer is aged 18-34\n",
    "\n",
    "Probability that a viewer prefers watching TV videos\n",
    "\n",
    "Percentage of viewers who are 18-34 and prefer watching UserCreated videos\n",
    "\n",
    "Percentage of viewers who are 35-54 or prefer watching UserCreated videos\n",
    "\n",
    "Problem-5\n",
    "Suppose \n",
    " and \n",
    " are independent random variables that both have uniform \n",
    " distributions. Consider the events\n",
    "\n",
    " \n",
    "\n",
    "Then \n",
    " \n",
    ". Use R and simulations to estimate \n",
    ".\n",
    "\n",
    "R will automatically generate independent random variables in a simulation. Use runif(n) to simulate 100,000 Uniform(0,1) distributed random values. Make a data frame for \n",
    " and \n",
    " uniform random variables, compute two additional columns for the events \n",
    " and \n",
    " as given in the problem, and estimate the relevant probabilities by sub-setting.\n",
    "\n",
    "Find \n",
    "\n",
    "Find \n",
    "\n",
    "Find \n",
    "\n",
    "Problem-6\n",
    "Take 5 R functions of your choice and find/compare/contrast their parameters, output, and usability with the python function that accomplishes the same goal."
   ]
  }
 ],
 "metadata": {
  "kernelspec": {
   "display_name": "R",
   "language": "R",
   "name": "ir"
  },
  "language_info": {
   "name": "R",
   "version": "3.11.4"
  },
  "orig_nbformat": 4
 },
 "nbformat": 4,
 "nbformat_minor": 2
}
